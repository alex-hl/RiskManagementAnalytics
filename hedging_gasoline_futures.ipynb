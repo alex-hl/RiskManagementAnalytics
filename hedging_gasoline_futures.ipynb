{
 "cells": [
  {
   "metadata": {},
   "cell_type": "markdown",
   "source": "### Hedging Unleaded Gasoline",
   "id": "37a0694b-31ea-4ec1-9a94-7449ffc1ea3a"
  },
  {
   "metadata": {},
   "cell_type": "markdown",
   "source": "The analysis pertains to hedging unleaded gasoline using futures contracts traded on the NY Mercantile Exchange (NYMEX) delivered to NY harbor. The goal is to find the minimum-variance hedge ratios for gasoline alone, cross-hedged against crude oil, and cross-hedged against heating oil. The effectiveness of the hedge is evaluated from January 2024 to February 23, 2024.",
   "id": "f89b3b94776f1613"
  },
  {
   "cell_type": "markdown",
   "id": "794a3d694d4f0da3",
   "metadata": {
    "collapsed": false
   },
   "source": [
    "Finding the minimum-variance hedge ratios, $\\beta_{SF}$, for gasoline alone, cross-hedged against crude oil, and cross hedged against heating oil by running the following regressions:\n",
    "\n",
    "$$\\Delta S = \\alpha + \\beta_{SF} \\Delta F + \\varepsilon$$"
   ]
  },
  {
   "cell_type": "code",
   "id": "6893c73e8a74e082",
   "metadata": {
    "collapsed": false,
    "ExecuteTime": {
     "end_time": "2024-04-26T22:26:50.676625Z",
     "start_time": "2024-04-26T22:26:47.037745Z"
    }
   },
   "source": [
    "import pandas as pd\n",
    "from statsmodels.regression.linear_model import OLS\n",
    "import warnings; warnings.simplefilter(action='ignore', category=FutureWarning)\n",
    "import statsmodels.api as sm\n",
    "\n",
    "futures_file_path = 'PET_PRI_FUT_S1_D.xls'\n",
    "spot_file_path = 'PET_PRI_SPT_S1_D.xls'\n",
    "\n",
    "def read_commodity_data(file_path):\n",
    "    xls = pd.ExcelFile(file_path)\n",
    "    dfs = {}\n",
    "    for sheet_name in xls.sheet_names:\n",
    "        if sheet_name != 'Contents':\n",
    "            df = pd.read_excel(xls, sheet_name=sheet_name, skiprows=2)\n",
    "            commodity_name = pd.read_excel(xls, sheet_name=sheet_name).columns[1]\n",
    "            # df['Commodity Name'] = commodity_name\n",
    "            df = df[df['Date'] >= pd.Timestamp('2013-01-01')]\n",
    "            dfs[sheet_name] = df\n",
    "    return dfs\n",
    "\n",
    "futures_dfs = read_commodity_data(futures_file_path)\n",
    "spot_dfs = read_commodity_data(spot_file_path)\n",
    "\n",
    "rbob_spot = spot_dfs['Data 3']\n",
    "spot_rbob_col = \"Los Angeles Reformulated RBOB Regular Gasoline Spot Price (Dollars per Gallon)\"\n",
    "rbob_spot['Change in RBOB Spot'] = rbob_spot[spot_rbob_col].diff()\n",
    "\n",
    "rbob_futures = futures_dfs['Data 3']\n",
    "futures_rbob_col = \"New York Harbor Reformulated RBOB Regular Gasoline Future Contract 1 (Dollars per Gallon)\"\n",
    "rbob_futures['Change in RBOB Futures'] = rbob_futures[futures_rbob_col].diff()\n",
    "\n",
    "crude_futures = futures_dfs['Data 1']\n",
    "futures_crude_col = \"Cushing, OK Crude Oil Future Contract 1 (Dollars per Barrel)\"\n",
    "crude_futures[futures_crude_col] = crude_futures[futures_crude_col] / 42  # making the futures price per gallon\n",
    "crude_futures['Change in Crude Futures'] = crude_futures[futures_crude_col].diff()\n",
    "\n",
    "heating_futures = futures_dfs['Data 4']\n",
    "futures_heating_col = \"New York Harbor No. 2 Heating Oil Future Contract 1 (Dollars per Gallon)\"\n",
    "heating_futures['Change in Heating Futures'] = heating_futures[futures_heating_col].diff()\n",
    "\n",
    "futures_cols = {'RBOB': futures_rbob_col, 'Crude': futures_crude_col, 'Heating': futures_heating_col}\n",
    "futures_change_cols = {'RBOB': 'Change in RBOB Futures', 'Crude': 'Change in Crude Futures', 'Heating': 'Change in Heating Futures'}\n",
    "\n",
    "\n",
    "full_data = pd.merge(rbob_spot, rbob_futures, on='Date').merge(crude_futures, on='Date').merge(heating_futures, on='Date')[['Date', spot_rbob_col, futures_rbob_col, futures_crude_col, futures_heating_col, 'Change in RBOB Spot', 'Change in RBOB Futures', 'Change in Crude Futures', 'Change in Heating Futures']].dropna()\n",
    "\n",
    "# data is from beginning of 2013 to end of 2023\n",
    "regression_data = full_data[full_data['Date'] < pd.Timestamp('2024-01-01')]\n",
    "\n",
    "futures_hedging_ratios = {}\n",
    "\n",
    "# making a dataframe to store coefficient intercepts and r-squared values\n",
    "coefficients_df = pd.DataFrame(columns=['Commodity', 'Intercept', 'Beta', 'R-Squared'])\n",
    "\n",
    "for commodity in futures_change_cols:\n",
    "    X = regression_data[futures_change_cols[commodity]]\n",
    "    y = regression_data['Change in RBOB Spot']\n",
    "    X = sm.add_constant(X)\n",
    "    model = OLS(y, X)\n",
    "    results = model.fit()\n",
    "    optimal_hedge_ratio = round(results.params[futures_change_cols[commodity]], 5)\n",
    "    futures_hedging_ratios[commodity] = optimal_hedge_ratio\n",
    "    \n",
    "    coefficients_df = pd.concat([coefficients_df, pd.DataFrame({'Commodity': [commodity], 'Intercept': [results.params['const']], 'Beta': [results.params[futures_change_cols[commodity]]], 'R-Squared': [results.rsquared]})])\n",
    "    \n",
    "coefficients_df"
   ],
   "outputs": [
    {
     "data": {
      "text/plain": [
       "  Commodity  Intercept      Beta  R-Squared\n",
       "0      RBOB   0.000052  0.827049   0.215827\n",
       "0     Crude   0.000006  0.541912   0.087123\n",
       "0   Heating  -0.000033  0.460486   0.087608"
      ],
      "text/html": [
       "<div>\n",
       "<style scoped>\n",
       "    .dataframe tbody tr th:only-of-type {\n",
       "        vertical-align: middle;\n",
       "    }\n",
       "\n",
       "    .dataframe tbody tr th {\n",
       "        vertical-align: top;\n",
       "    }\n",
       "\n",
       "    .dataframe thead th {\n",
       "        text-align: right;\n",
       "    }\n",
       "</style>\n",
       "<table border=\"1\" class=\"dataframe\">\n",
       "  <thead>\n",
       "    <tr style=\"text-align: right;\">\n",
       "      <th></th>\n",
       "      <th>Commodity</th>\n",
       "      <th>Intercept</th>\n",
       "      <th>Beta</th>\n",
       "      <th>R-Squared</th>\n",
       "    </tr>\n",
       "  </thead>\n",
       "  <tbody>\n",
       "    <tr>\n",
       "      <th>0</th>\n",
       "      <td>RBOB</td>\n",
       "      <td>0.000052</td>\n",
       "      <td>0.827049</td>\n",
       "      <td>0.215827</td>\n",
       "    </tr>\n",
       "    <tr>\n",
       "      <th>0</th>\n",
       "      <td>Crude</td>\n",
       "      <td>0.000006</td>\n",
       "      <td>0.541912</td>\n",
       "      <td>0.087123</td>\n",
       "    </tr>\n",
       "    <tr>\n",
       "      <th>0</th>\n",
       "      <td>Heating</td>\n",
       "      <td>-0.000033</td>\n",
       "      <td>0.460486</td>\n",
       "      <td>0.087608</td>\n",
       "    </tr>\n",
       "  </tbody>\n",
       "</table>\n",
       "</div>"
      ]
     },
     "execution_count": 2,
     "metadata": {},
     "output_type": "execute_result"
    }
   ],
   "execution_count": 2
  },
  {
   "cell_type": "markdown",
   "id": "5823d29de5023d93",
   "metadata": {
    "collapsed": false
   },
   "source": [
    "Let's assume that the company need 1,000,000 gallons of gasoline and the size of one futures contract is 42,000 gallons. We can calculate optimal number of contract to purchase to hedge the position:\n",
    "\n",
    "$$N^* = \\beta_{SF} \\cdot \\frac{Q_s}{Q_f}$$\n",
    "\n",
    "\n",
    "Evaluating the performance of the hedge for each commodity with the following formula:\n",
    "\n",
    "$$(S_1 - S_0) \\cdot Q_s$$\n",
    "\n",
    "Evaluating the performance of the hedge futures position for each commodity with the following formula:\n",
    "\n",
    "$$(S_1 - F_0) \\cdot (N^* \\cdot Q_f)$$\n"
   ]
  },
  {
   "cell_type": "code",
   "id": "76c0b590a1f8bc41",
   "metadata": {
    "collapsed": false,
    "ExecuteTime": {
     "end_time": "2024-04-26T22:26:50.692619Z",
     "start_time": "2024-04-26T22:26:50.680624Z"
    }
   },
   "source": [
    "Qa = 1000000  # Assume we want to hedge 1,000,000 gallons of gasoline\n",
    "Qf = 42000  # Size of one futures contract (in gallons)\n",
    "\n",
    "evaluation_data = full_data[full_data['Date'] >= pd.Timestamp('2024-01-01')]\n",
    "\n",
    "s0 = evaluation_data[spot_rbob_col].iloc[0]\n",
    "s1 = evaluation_data[spot_rbob_col].iloc[-1]\n",
    "spot_price_change = s1 - s0\n",
    "print(f\"Quantity of gasoline the company needs: {Qa} gallons\")\n",
    "print(f\"Spot price at t=0: ${s0:.2f} per gallon\")\n",
    "print(f\"Spot price at t=1: ${s1:.2f} per gallon\")\n",
    "print(f\"Change in spot price: ${spot_price_change:.2f} per gallon\")\n",
    "unhedged_performance = spot_price_change * Qa  # Change in spot price times quantity of asset\n",
    "print(f\"Unhedged Performance: ${unhedged_performance:.2f}\\n\")\n",
    "print(f\"Size of one futures contract: {Qf} gallons\\n\")\n",
    "\n",
    "for commodity in futures_hedging_ratios:\n",
    "    \n",
    "    f0 = evaluation_data[futures_cols[commodity]].iloc[0]\n",
    "    n_star = futures_hedging_ratios[commodity] * (Qa / Qf)\n",
    "    hedged_performance = (s1 - f0) * (n_star * Qf)\n",
    "\n",
    "    print(f\"Commodity: {commodity}\")\n",
    "    print(f\"{commodity} Futures Price at t=0: ${f0:.2f} per gallon\")\n",
    "    print(f\"Optimal Hedge Ratio for {commodity}: {futures_hedging_ratios[commodity]}\")\n",
    "    print(f\"Optimal number of contracts to purchase: {n_star:.2f}\")\n",
    "    print(f\"Hedged Performance for {commodity}: ${hedged_performance:.2f}\\n\")"
   ],
   "outputs": [
    {
     "name": "stdout",
     "output_type": "stream",
     "text": [
      "Quantity of gasoline the company needs: 1000000 gallons\n",
      "Spot price at t=0: $2.45 per gallon\n",
      "Spot price at t=1: $2.61 per gallon\n",
      "Change in spot price: $0.16 per gallon\n",
      "Unhedged Performance: $162000.00\n",
      "\n",
      "Size of one futures contract: 42000 gallons\n",
      "\n",
      "Commodity: RBOB\n",
      "RBOB Futures Price at t=0: $2.10 per gallon\n",
      "Optimal Hedge Ratio for RBOB: 0.82705\n",
      "Optimal number of contracts to purchase: 19.69\n",
      "Hedged Performance for RBOB: $427584.85\n",
      "\n",
      "Commodity: Crude\n",
      "Crude Futures Price at t=0: $1.68 per gallon\n",
      "Optimal Hedge Ratio for Crude: 0.54191\n",
      "Optimal number of contracts to purchase: 12.90\n",
      "Hedged Performance for Crude: $507382.59\n",
      "\n",
      "Commodity: Heating\n",
      "Heating Futures Price at t=0: $2.53 per gallon\n",
      "Optimal Hedge Ratio for Heating: 0.46049\n",
      "Optimal number of contracts to purchase: 10.96\n",
      "Hedged Performance for Heating: $39602.14\n",
      "\n"
     ]
    }
   ],
   "execution_count": 3
  },
  {
   "cell_type": "markdown",
   "id": "1e4b6c2544056fe7",
   "metadata": {
    "collapsed": false
   },
   "source": "### Summarized Results"
  },
  {
   "cell_type": "markdown",
   "id": "2474416cfdbd1a10",
   "metadata": {
    "collapsed": false
   },
   "source": [
    "\n",
    "##### 1. Futures Position Statement:\n",
    "   To hedge against the rising price of gasoline, we would undertake a long position in RBOB gasoline futures contracts, crude oil futures contracts, and heating oil futures contracts with the respective optimal hedge ratios and quantities. \n",
    "  "
   ]
  },
  {
   "cell_type": "markdown",
   "id": "6a7435ebca1f5913",
   "metadata": {
    "collapsed": false
   },
   "source": [
    "##### 2. Estimated Regression Equation:\n",
    "Let's assume the estimated regression equation that determined the hedge is of the form:\n",
    "   \n",
    "$$ \\Delta S = \\alpha + \\beta_{SF} \\Delta F + \\varepsilon $$\n",
    "\n",
    "Where:\n",
    "\n",
    "- $ \\Delta S $ is the change in spot price,\n",
    "- $ \\alpha $ is the intercept of the regression equation,\n",
    "- $ \\beta_{SF} $ is the hedge ratio as the regression coefficient,\n",
    "- $ \\Delta F $ is the change in futures price,\n",
    "- $ \\varepsilon $ is the error term of the regression.\n",
    "\n",
    "The optimal hedge ratios ($ \\beta_{SF} $) for RBOB, crude, and heating oil are 0.82705, 0.54191, and 0.46049 respectively. The ratios are computed from data ranging from January 2013 to December 2023. The following was found from the regression analysis in python.\n",
    "  "
   ]
  },
  {
   "cell_type": "markdown",
   "id": "bdc4b3b22d977240",
   "metadata": {
    "collapsed": false
   },
   "source": [
    " \n",
    "\n",
    "| Commodity | Regression Equation | R-Squared |\n",
    "|-----------|---------------------|-----------|\n",
    "| RBOB      | $\\Delta S = 0.000052 + 0.827049 \\Delta F$ | 0.2158    |\n",
    "| Crude     | $\\Delta S = 0.000006 + 0.511912 \\Delta F$ | 0.0871    |\n",
    "| Heating   | $\\Delta S = -0.000033 + 0.460486 \\Delta F$ | 0.0876    |\n",
    "  "
   ]
  },
  {
   "cell_type": "markdown",
   "id": "88aa43b8d7b985b0",
   "metadata": {
    "collapsed": false
   },
   "source": [
    "\n",
    "##### 3. Gain/Loss Computation:\n",
    "   The gain or loss for the hedged and un-hedged positions in dollar terms are computed as follows on the evaluation period from January 2024 till February 23, 2024:\n",
    "\n",
    "**Unhedged Position:** If no hedge was undertaken, the increase in spot prices would result in additional costs of:\n",
    "\n",
    "$$ \\text{Unhedged Loss} = \\text{Change in Spot Price} \\times \\text{Quantity of Gasoline Needed} $$\n",
    "$$ \\text{Unhedged Loss} = \\$0.16 \\text{ per gallon} \\times 1,000,000 \\text{ gallons} = \\$160,000 $$\n",
    "\n",
    "**Hedged Position:** The gain or loss for each hedged position is the product of the futures price at inception, the optimal number of contracts, and the size of one futures contract, adjusted by the change in spot price.\n",
    "\n",
    "For RBOB:\n",
    "\n",
    "\n",
    "$$ \\text{Hedged Gain for RBOB} = (S_1 - F_0) \\times (N^* \\times Q_f) $$\n",
    "$$ \\text{Hedged Gain for RBOB} = (\\$2.61 - \\$2.10) \\times (19.69 \\times 42,000) = \\$427,584.85 $$\n",
    "\n",
    "For Crude:\n",
    "$$ \\text{Hedged Gain for Crude} = (S_1 - F_0) \\times (N^* \\times Q_f) $$\n",
    "$$ \\text{Hedged Gain for Crude} = (\\$2.61 - \\$1.68) \\times (12.90 \\times 42,000) = \\$507,382.59 $$\n",
    "\n",
    "For Heating:\n",
    "$$ \\text{Hedged Gain for Heating} = (S_1 - F_0) \\times (N^* \\times Q_f) $$\n",
    "$$ \\text{Hedged Gain for Heating} = (\\$2.61 - \\$2.53) \\times (10.96 \\times 42,000) = \\$39,602.14 $$\n"
   ]
  }
 ],
 "metadata": {
  "kernelspec": {
   "display_name": "Python 3 (ipykernel)",
   "language": "python",
   "name": "python3"
  },
  "language_info": {
   "codemirror_mode": {
    "name": "ipython",
    "version": 3
   },
   "file_extension": ".py",
   "mimetype": "text/x-python",
   "name": "python",
   "nbconvert_exporter": "python",
   "pygments_lexer": "ipython3",
   "version": "3.11.7"
  }
 },
 "nbformat": 4,
 "nbformat_minor": 5
}
