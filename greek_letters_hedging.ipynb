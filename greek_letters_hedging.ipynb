{
 "cells": [
  {
   "cell_type": "markdown",
   "id": "f5aa1ea0479a7f",
   "metadata": {},
   "source": [
    "# Greek Letters Hedging\n",
    "\n",
    "The following information about options on Apple stock is provided: $ S = 170 $, $ \\tau = T - t = 1 $ month, $ r = 4\\% $ per annum (C.C.), and $ \\sigma = 35\\% $ per year, and consider the following options portfolio:\n",
    "\n",
    "|Number of contracts (minus sign indicates option written)|\n",
    "|---------------------------------------------------------|\n",
    "\n",
    "| Strike price | Calls | Puts |\n",
    "|--------------|-------|------|\n",
    "| 165          | 100   | -50  |\n",
    "| 170          | 150   | -100 |\n",
    "| 175          | -120  | 0    |\n",
    "\n",
    "### Tasks\n",
    "a) Find the net delta ($ \\Delta $), gamma ($ \\Gamma $), and vega ($ \\nu $) exposures of this portfolio.\n",
    "\n",
    "b) How many shares must be sold/purchased to achieve a delta-neutral ($ \\Delta $-neutral) position? What is the market value of those shares?\n",
    "\n",
    "c) What will happen to the value of the options portfolio if the stock price immediately increases to 175? What is the net gain/loss on the delta-hedged position?\n",
    "\n",
    "d) Now suppose that the portfolio owner decides to make the portfolio both delta ($ \\Delta $) and gamma ($ \\Gamma $) neutral by selling/buying shares and modifying the number of 170-strike price call options in the portfolio. How many of these calls should be bought or sold to achieve a gamma-neutral ($ \\Gamma $-neutral) position? What is the new value for the number of shares that should be bought or sold for delta-neutrality?\n",
    "\n",
    "e) What will be the change in the value of the portfolio in (d) if the stock price increases immediately from 170 to 175? Compare this change to your answer in (c) for the portfolio that was only delta-hedged. Briefly comment.\n",
    "\n",
    "f) Repeat (e) for a stock price decrease from 170 to 165.\n",
    "\n",
    "                          "
   ]
  },
  {
   "cell_type": "markdown",
   "id": "24ac53d69285f116",
   "metadata": {},
   "source": [
    "## Part a)"
   ]
  },
  {
   "cell_type": "markdown",
   "id": "f13eec6d4a898c9d",
   "metadata": {},
   "source": [
    "We will price the options using the Black-Scholes model and calculate the Greeks (Delta, Gamma, Vega) for each option in the portfolio. The net exposure of the portfolio will be the sum of the individual exposures weighted by the number of contracts for each option."
   ]
  },
  {
   "cell_type": "code",
   "execution_count": 5,
   "id": "5f1ad422c89c8cc3",
   "metadata": {
    "ExecuteTime": {
     "end_time": "2024-04-06T17:25:18.467528Z",
     "start_time": "2024-04-06T17:25:18.431290Z"
    }
   },
   "outputs": [
    {
     "name": "stdout",
     "output_type": "stream",
     "text": [
      "Stock Price: 170\n",
      "Time to Maturity (in years): 0.08333333333333333\n",
      "Risk-Free Rate: 0.04\n",
      "Volatility: 0.35\n",
      "\n",
      "\n",
      "Net Delta Exposure: 158.7165\n",
      "Net Gamma Exposure: -0.492\n",
      "Net Vega Exposure: -414.7037\n"
     ]
    },
    {
     "data": {
      "text/plain": "  Option Type  Strike Price  Number of Contracts     Delta     Gamma  \\\n0        Call           165                  100  0.647648  0.021617   \n1        Call           170                  150  0.533277  0.023146   \n2        Call           175                 -120  0.419414  0.022751   \n3         Put           165                  -50 -0.352352  0.021617   \n4         Put           170                 -100 -0.466723  0.023146   \n\n        Vega  Option Price  \n0  18.221363      9.872006  \n1  19.509854      7.124570  \n2  19.177204      4.951825  \n3  18.221363      4.322921  \n4  19.509854      6.558847  ",
      "text/html": "<div>\n<style scoped>\n    .dataframe tbody tr th:only-of-type {\n        vertical-align: middle;\n    }\n\n    .dataframe tbody tr th {\n        vertical-align: top;\n    }\n\n    .dataframe thead th {\n        text-align: right;\n    }\n</style>\n<table border=\"1\" class=\"dataframe\">\n  <thead>\n    <tr style=\"text-align: right;\">\n      <th></th>\n      <th>Option Type</th>\n      <th>Strike Price</th>\n      <th>Number of Contracts</th>\n      <th>Delta</th>\n      <th>Gamma</th>\n      <th>Vega</th>\n      <th>Option Price</th>\n    </tr>\n  </thead>\n  <tbody>\n    <tr>\n      <th>0</th>\n      <td>Call</td>\n      <td>165</td>\n      <td>100</td>\n      <td>0.647648</td>\n      <td>0.021617</td>\n      <td>18.221363</td>\n      <td>9.872006</td>\n    </tr>\n    <tr>\n      <th>1</th>\n      <td>Call</td>\n      <td>170</td>\n      <td>150</td>\n      <td>0.533277</td>\n      <td>0.023146</td>\n      <td>19.509854</td>\n      <td>7.124570</td>\n    </tr>\n    <tr>\n      <th>2</th>\n      <td>Call</td>\n      <td>175</td>\n      <td>-120</td>\n      <td>0.419414</td>\n      <td>0.022751</td>\n      <td>19.177204</td>\n      <td>4.951825</td>\n    </tr>\n    <tr>\n      <th>3</th>\n      <td>Put</td>\n      <td>165</td>\n      <td>-50</td>\n      <td>-0.352352</td>\n      <td>0.021617</td>\n      <td>18.221363</td>\n      <td>4.322921</td>\n    </tr>\n    <tr>\n      <th>4</th>\n      <td>Put</td>\n      <td>170</td>\n      <td>-100</td>\n      <td>-0.466723</td>\n      <td>0.023146</td>\n      <td>19.509854</td>\n      <td>6.558847</td>\n    </tr>\n  </tbody>\n</table>\n</div>"
     },
     "execution_count": 5,
     "metadata": {},
     "output_type": "execute_result"
    }
   ],
   "source": [
    "import pandas as pd\n",
    "import yfinance as yf\n",
    "import numpy as np\n",
    "import warnings\n",
    "from scipy.stats import norm\n",
    "warnings.simplefilter(action='ignore', category=FutureWarning)\n",
    "\n",
    "def download_stock_data(ticker, start_date, end_date):\n",
    "    stock_data = yf.download(ticker, start=start_date, end=end_date)\n",
    "    return stock_data\n",
    "\n",
    "def calculate_daily_returns(closing_prices):\n",
    "    daily_returns = closing_prices.pct_change().dropna()\n",
    "    return daily_returns\n",
    "\n",
    "aapl_data = download_stock_data('AAPL', '2021-01-01', '2022-01-01')\n",
    "tsla_data = download_stock_data('TSLA', '2021-01-01', '2022-01-01')\n",
    "\n",
    "aapl_returns = calculate_daily_returns(aapl_data['Close'])\n",
    "tsla_returns = calculate_daily_returns(tsla_data['Close'])\n",
    "\n",
    "def bs(S, K, tau, r, sigma, q=0):\n",
    "    \"\"\"Returns the Black-Scholes parameters d1, d2, N(d1), N(d2), N'(d1)\"\"\"\n",
    "    d1 = (np.log(S / K) + tau * (r - q + 0.5 * sigma ** 2)) / (sigma * np.sqrt(tau))\n",
    "    d2 = d1 - sigma * np.sqrt(tau)\n",
    "    N_d1 = norm.cdf(d1)\n",
    "    N_d2 = norm.cdf(d2)\n",
    "    N_prime_d1 = (1 / np.sqrt(2 * np.pi)) * np.exp(-0.5 * (d1 ** 2))\n",
    "    return d1, d2, N_d1, N_d2, N_prime_d1\n",
    "    \n",
    "    \n",
    "def bs_greeks(S, K, tau, r, sigma, q=0, option_type='call'):\n",
    "    \"\"\"\n",
    "    Calculate the Black-Scholes Greeks for a European option.\n",
    "    :return: Delta, Gamma, Vega\n",
    "    \"\"\"\n",
    "    d1, d2, N_d1, N_d2, N_prime_d1 = bs(S, K, tau, r, sigma, q)\n",
    "    \n",
    "    if option_type == 'call':\n",
    "        delta = np.exp(-q * tau) * N_d1\n",
    "    else:\n",
    "        delta = np.exp(-q * tau) * (N_d1 - 1)\n",
    "        \n",
    "    gamma = np.exp(-q * tau) * N_prime_d1 / (S * sigma * np.sqrt(tau))\n",
    "    vega = S * np.exp(-q * tau) * N_prime_d1 * np.sqrt(tau)\n",
    "    \n",
    "    return delta, gamma, vega\n",
    "\n",
    "def bs_price(S, K, tau, r, sigma, q=0, option_type='call'):\n",
    "    \"\"\"\n",
    "    Calculate the Black-Scholes price for a European option.\n",
    "    \"\"\"\n",
    "\n",
    "    d1, d2, N_d1, N_d2, N_prime_d1 = bs(S, K, tau, r, sigma, q)\n",
    "    \n",
    "    if option_type == 'call':\n",
    "        price = S * np.exp(-q * tau) * N_d1 - K * np.exp(-r * tau) * N_d2\n",
    "    else:\n",
    "        price = K * np.exp(-r * tau) * (1 - N_d2) - S * np.exp(-q * tau) * (1 - N_d1)\n",
    "    \n",
    "    return price\n",
    "\n",
    "\n",
    "portfolio_a = pd.DataFrame({'Option Type': ['Call', 'Call', 'Call', 'Put', 'Put'], 'Strike Price': [165, 170, 175, 165, 170], 'Number of Contracts': [100, 150, -120, -50, -100]})\n",
    "S = 170  # Stock price\n",
    "tau = 1/12  # Time to maturity in years (1 month)\n",
    "r = 0.04  # Risk-free rate\n",
    "sigma = 0.35  # Volatility\n",
    "q = 0  # Dividend yield\n",
    "\n",
    "print(\"Stock Price:\", S)\n",
    "print(\"Time to Maturity (in years):\", tau)\n",
    "print(\"Risk-Free Rate:\", r)\n",
    "print(\"Volatility:\", sigma)\n",
    "print('\\n')\n",
    "\n",
    "# Calculate the Greeks for each option in the portfolio\n",
    "portfolio_a['Delta'], portfolio_a['Gamma'], portfolio_a['Vega'] = zip(*portfolio_a.apply(lambda x: bs_greeks(S, x['Strike Price'], tau, r, sigma, q, x['Option Type'].lower()), axis=1))\n",
    "\n",
    "# Calculate the price of each option in the portfolio\n",
    "portfolio_a[\"Option Price\"] = portfolio_a.apply(lambda x: bs_price(S, x['Strike Price'], tau, r, sigma, q, x['Option Type'].lower()), axis=1)\n",
    "\n",
    "\n",
    "# Calculate greeks of the entire portfolio\n",
    "net_delta = (portfolio_a['Number of Contracts'] * portfolio_a['Delta']).sum()\n",
    "net_gamma = (portfolio_a['Number of Contracts'] * portfolio_a['Gamma']).sum()\n",
    "net_vega = (portfolio_a['Number of Contracts'] * portfolio_a['Vega']).sum()\n",
    "\n",
    "print(\"Net Delta Exposure:\", round(net_delta, 4))\n",
    "print(\"Net Gamma Exposure:\", round(net_gamma, 4))\n",
    "print(\"Net Vega Exposure:\", round(net_vega, 4))\n",
    "print('\\n')\n",
    "\n",
    "portfolio_a"
   ]
  },
  {
   "cell_type": "markdown",
   "id": "a1d57d6e1a7cbe4e",
   "metadata": {},
   "source": [
    "## Part b)"
   ]
  },
  {
   "cell_type": "code",
   "execution_count": 6,
   "id": "b9bda4ccfdd8037d",
   "metadata": {
    "ExecuteTime": {
     "end_time": "2024-04-06T17:25:18.473523Z",
     "start_time": "2024-04-06T17:25:18.468526Z"
    }
   },
   "outputs": [
    {
     "name": "stdout",
     "output_type": "stream",
     "text": [
      "Number of shares to be purchased for delta-neutral position (a negative value indicates selling): -158.7165\n",
      "Market value of shares for delta-neutral position: 26981.8106\n"
     ]
    }
   ],
   "source": [
    "print(\"Number of shares to be purchased for delta-neutral position (a negative value indicates selling):\", round(-net_delta, 4))\n",
    "print(\"Market value of shares for delta-neutral position:\", round(net_delta * S, 4)) "
   ]
  },
  {
   "cell_type": "markdown",
   "id": "cc4c0ed5fc5e88f0",
   "metadata": {},
   "source": [
    "## Part c)"
   ]
  },
  {
   "cell_type": "code",
   "execution_count": 7,
   "id": "382621414b1b6801",
   "metadata": {
    "ExecuteTime": {
     "end_time": "2024-04-06T17:25:18.518682Z",
     "start_time": "2024-04-06T17:25:18.481520Z"
    }
   },
   "outputs": [
    {
     "name": "stdout",
     "output_type": "stream",
     "text": [
      "Change in Value of the Options Portfolio if Stock Price Increases to 175: 786.2933\n",
      "Net Gain/Loss on the Delta-Hedged Position: -7.2893\n"
     ]
    },
    {
     "data": {
      "text/plain": "  Option Type  Strike Price  Number of Contracts  Delta  Gamma   Vega  \\\n0        Call           165                  100   0.65   0.02  18.22   \n1        Call           170                  150   0.53   0.02  19.51   \n2        Call           175                 -120   0.42   0.02  19.18   \n3         Put           165                  -50  -0.35   0.02  18.22   \n4         Put           170                 -100  -0.47   0.02  19.51   \n\n   Option Price  Option Price New  Option Price Change  Total Change in Value  \n0          9.87             13.37                 3.49                 349.47  \n1          7.12             10.07                 2.95                 442.31  \n2          4.95              7.33                 2.38                -285.87  \n3          4.32              2.82                -1.51                  75.27  \n4          6.56              4.51                -2.05                 205.13  ",
      "text/html": "<div>\n<style scoped>\n    .dataframe tbody tr th:only-of-type {\n        vertical-align: middle;\n    }\n\n    .dataframe tbody tr th {\n        vertical-align: top;\n    }\n\n    .dataframe thead th {\n        text-align: right;\n    }\n</style>\n<table border=\"1\" class=\"dataframe\">\n  <thead>\n    <tr style=\"text-align: right;\">\n      <th></th>\n      <th>Option Type</th>\n      <th>Strike Price</th>\n      <th>Number of Contracts</th>\n      <th>Delta</th>\n      <th>Gamma</th>\n      <th>Vega</th>\n      <th>Option Price</th>\n      <th>Option Price New</th>\n      <th>Option Price Change</th>\n      <th>Total Change in Value</th>\n    </tr>\n  </thead>\n  <tbody>\n    <tr>\n      <th>0</th>\n      <td>Call</td>\n      <td>165</td>\n      <td>100</td>\n      <td>0.65</td>\n      <td>0.02</td>\n      <td>18.22</td>\n      <td>9.87</td>\n      <td>13.37</td>\n      <td>3.49</td>\n      <td>349.47</td>\n    </tr>\n    <tr>\n      <th>1</th>\n      <td>Call</td>\n      <td>170</td>\n      <td>150</td>\n      <td>0.53</td>\n      <td>0.02</td>\n      <td>19.51</td>\n      <td>7.12</td>\n      <td>10.07</td>\n      <td>2.95</td>\n      <td>442.31</td>\n    </tr>\n    <tr>\n      <th>2</th>\n      <td>Call</td>\n      <td>175</td>\n      <td>-120</td>\n      <td>0.42</td>\n      <td>0.02</td>\n      <td>19.18</td>\n      <td>4.95</td>\n      <td>7.33</td>\n      <td>2.38</td>\n      <td>-285.87</td>\n    </tr>\n    <tr>\n      <th>3</th>\n      <td>Put</td>\n      <td>165</td>\n      <td>-50</td>\n      <td>-0.35</td>\n      <td>0.02</td>\n      <td>18.22</td>\n      <td>4.32</td>\n      <td>2.82</td>\n      <td>-1.51</td>\n      <td>75.27</td>\n    </tr>\n    <tr>\n      <th>4</th>\n      <td>Put</td>\n      <td>170</td>\n      <td>-100</td>\n      <td>-0.47</td>\n      <td>0.02</td>\n      <td>19.51</td>\n      <td>6.56</td>\n      <td>4.51</td>\n      <td>-2.05</td>\n      <td>205.13</td>\n    </tr>\n  </tbody>\n</table>\n</div>"
     },
     "execution_count": 7,
     "metadata": {},
     "output_type": "execute_result"
    }
   ],
   "source": [
    "# Calculate the change in the value of the options portfolio if the stock price increases to 175\n",
    "\n",
    "S = 175  # New stock price\n",
    "\n",
    "portfolio_a['Option Price New'] = portfolio_a.apply(lambda x: bs_price(S, x['Strike Price'], tau, r, sigma, q, x['Option Type'].lower()), axis=1)\n",
    "portfolio_a['Option Price Change'] = portfolio_a['Option Price New'] - portfolio_a[\"Option Price\"]\n",
    "portfolio_a['Total Change in Value'] = portfolio_a['Option Price Change'] * portfolio_a['Number of Contracts']\n",
    "\n",
    "net_gain_loss = portfolio_a['Total Change in Value'].sum()\n",
    "print(\"Change in Value of the Options Portfolio if Stock Price Increases to 175:\", round(net_gain_loss, 4))\n",
    "\n",
    "net_gain_loss_hedged = net_gain_loss - net_delta * (S - 170)\n",
    "print(\"Net Gain/Loss on the Delta-Hedged Position:\", round(net_gain_loss_hedged, 4))\n",
    "\n",
    "portfolio_a.round(2)"
   ]
  },
  {
   "cell_type": "markdown",
   "id": "26b2cad450f23957",
   "metadata": {},
   "source": [
    "## Part d)"
   ]
  },
  {
   "cell_type": "code",
   "execution_count": 8,
   "id": "22d0a3735f0ab8d8",
   "metadata": {
    "ExecuteTime": {
     "end_time": "2024-04-06T17:25:18.531674Z",
     "start_time": "2024-04-06T17:25:18.521678Z"
    }
   },
   "outputs": [
    {
     "name": "stdout",
     "output_type": "stream",
     "text": [
      "Number of 170-strike price call options to be bought/sold for gamma-neutral position: 21.2561\n",
      "New number of shares for delta-neutrality in gamma-neutral positio (a negative value indicates selling): -170.0519\n"
     ]
    }
   ],
   "source": [
    "# Given data\n",
    "S = 170  # Stock price\n",
    "K_170_call_greeks = bs_greeks(S, 170, tau, r, sigma, q, 'call')\n",
    "K_170_call_gamma = K_170_call_greeks[1]\n",
    "\n",
    "number_of_calls = -net_gamma / K_170_call_gamma\n",
    "print(\"Number of 170-strike price call options to be bought/sold for gamma-neutral position:\", round(number_of_calls, 4))\n",
    "\n",
    "# Calculate the new number of shares for delta-neutrality\n",
    "net_delta_gamma_neutral = net_delta + number_of_calls * K_170_call_greeks[0]\n",
    "print(\"New number of shares for delta-neutrality in gamma-neutral positio (a negative value indicates selling):\", round(-net_delta_gamma_neutral, 4))"
   ]
  },
  {
   "cell_type": "markdown",
   "id": "8db316f0216819b4",
   "metadata": {},
   "source": [
    "## Part e)"
   ]
  },
  {
   "cell_type": "code",
   "execution_count": 9,
   "id": "9d161d561f1b7418",
   "metadata": {
    "ExecuteTime": {
     "end_time": "2024-04-06T17:25:18.572657Z",
     "start_time": "2024-04-06T17:25:18.532674Z"
    }
   },
   "outputs": [
    {
     "name": "stdout",
     "output_type": "stream",
     "text": [
      "Change in Value of the Portfolio in Delta-Gamma Neutral Position if Stock Price Increases to 175: -1.2884\n"
     ]
    },
    {
     "data": {
      "text/plain": "  Option Type  Strike Price  Number of Contracts  Delta  Gamma   Vega  \\\n0        Call           165               100.00   0.65   0.02  18.22   \n1        Call           170               171.26   0.53   0.02  19.51   \n2        Call           175              -120.00   0.42   0.02  19.18   \n3         Put           165               -50.00  -0.35   0.02  18.22   \n4         Put           170              -100.00  -0.47   0.02  19.51   \n\n   Option Price  Option Price New  Option Price Change  Total Change in Value  \n0          9.87             13.37                 3.49                 349.47  \n1          7.12             10.07                 2.95                 504.98  \n2          4.95              7.33                 2.38                -285.87  \n3          4.32              2.82                -1.51                  75.27  \n4          6.56              4.51                -2.05                 205.13  ",
      "text/html": "<div>\n<style scoped>\n    .dataframe tbody tr th:only-of-type {\n        vertical-align: middle;\n    }\n\n    .dataframe tbody tr th {\n        vertical-align: top;\n    }\n\n    .dataframe thead th {\n        text-align: right;\n    }\n</style>\n<table border=\"1\" class=\"dataframe\">\n  <thead>\n    <tr style=\"text-align: right;\">\n      <th></th>\n      <th>Option Type</th>\n      <th>Strike Price</th>\n      <th>Number of Contracts</th>\n      <th>Delta</th>\n      <th>Gamma</th>\n      <th>Vega</th>\n      <th>Option Price</th>\n      <th>Option Price New</th>\n      <th>Option Price Change</th>\n      <th>Total Change in Value</th>\n    </tr>\n  </thead>\n  <tbody>\n    <tr>\n      <th>0</th>\n      <td>Call</td>\n      <td>165</td>\n      <td>100.00</td>\n      <td>0.65</td>\n      <td>0.02</td>\n      <td>18.22</td>\n      <td>9.87</td>\n      <td>13.37</td>\n      <td>3.49</td>\n      <td>349.47</td>\n    </tr>\n    <tr>\n      <th>1</th>\n      <td>Call</td>\n      <td>170</td>\n      <td>171.26</td>\n      <td>0.53</td>\n      <td>0.02</td>\n      <td>19.51</td>\n      <td>7.12</td>\n      <td>10.07</td>\n      <td>2.95</td>\n      <td>504.98</td>\n    </tr>\n    <tr>\n      <th>2</th>\n      <td>Call</td>\n      <td>175</td>\n      <td>-120.00</td>\n      <td>0.42</td>\n      <td>0.02</td>\n      <td>19.18</td>\n      <td>4.95</td>\n      <td>7.33</td>\n      <td>2.38</td>\n      <td>-285.87</td>\n    </tr>\n    <tr>\n      <th>3</th>\n      <td>Put</td>\n      <td>165</td>\n      <td>-50.00</td>\n      <td>-0.35</td>\n      <td>0.02</td>\n      <td>18.22</td>\n      <td>4.32</td>\n      <td>2.82</td>\n      <td>-1.51</td>\n      <td>75.27</td>\n    </tr>\n    <tr>\n      <th>4</th>\n      <td>Put</td>\n      <td>170</td>\n      <td>-100.00</td>\n      <td>-0.47</td>\n      <td>0.02</td>\n      <td>19.51</td>\n      <td>6.56</td>\n      <td>4.51</td>\n      <td>-2.05</td>\n      <td>205.13</td>\n    </tr>\n  </tbody>\n</table>\n</div>"
     },
     "execution_count": 9,
     "metadata": {},
     "output_type": "execute_result"
    }
   ],
   "source": [
    "# Calculate the change in the value of the options portfolio if the stock price increases to 175\n",
    "\n",
    "portfolio_b = pd.DataFrame({'Option Type': ['Call', 'Call', 'Call', 'Put', 'Put'], 'Strike Price': [165, 170, 175, 165, 170], 'Number of Contracts': [100, 150 + number_of_calls, -120, -50, -100]})\n",
    "portfolio_b['Delta'], portfolio_b['Gamma'], portfolio_b['Vega'] = zip(*portfolio_b.apply(lambda x: bs_greeks(S, x['Strike Price'], tau, r, sigma, q, x['Option Type'].lower()), axis=1))\n",
    "portfolio_b[\"Option Price\"] = portfolio_b.apply(lambda x: bs_price(S, x['Strike Price'], tau, r, sigma, q, x['Option Type'].lower()), axis=1)\n",
    "\n",
    "S = 175  # New stock price\n",
    "\n",
    "portfolio_b['Option Price New'] = portfolio_b.apply(lambda x: bs_price(S, x['Strike Price'], tau, r, sigma, q, x['Option Type'].lower()), axis=1)\n",
    "portfolio_b['Option Price Change'] = portfolio_b['Option Price New'] - portfolio_b[\"Option Price\"]\n",
    "portfolio_b['Total Change in Value'] = portfolio_b['Option Price Change'] * portfolio_b['Number of Contracts']\n",
    "\n",
    "net_gain_loss_delta_gamma_neutral = portfolio_b['Total Change in Value'].sum() - net_delta_gamma_neutral * (S - 170)\n",
    "print(\"Change in Value of the Portfolio in Delta-Gamma Neutral Position if Stock Price Increases to 175:\", round(net_gain_loss_delta_gamma_neutral, 4))\n",
    "\n",
    "portfolio_b.round(2)"
   ]
  },
  {
   "cell_type": "markdown",
   "id": "b029dedeb1d95760",
   "metadata": {},
   "source": [
    "Comparing the answer in part e) for the detla-gamma neutral portfolio to the delta-hedged portfolio in part c), we observe that as the price of the underlying stock increases from 170 to 175, the change in the value of the portfolio is significantly reduced when the portfolio is delta-gamma neutral. The delta-gamma neutral is not only hedge against first order risk (delta) but also against second order risk (gamma). This results in a smaller change in the portfolio value when the stock price moves, indicating a more effective hedging strategy that accounts for both delta and gamma exposures."
   ]
  },
  {
   "cell_type": "markdown",
   "id": "97949f84be0b29f8",
   "metadata": {},
   "source": [
    "## Part f)"
   ]
  },
  {
   "cell_type": "code",
   "execution_count": 10,
   "id": "98c9ca0876c28312",
   "metadata": {
    "ExecuteTime": {
     "end_time": "2024-04-06T17:25:18.614638Z",
     "start_time": "2024-04-06T17:25:18.581652Z"
    }
   },
   "outputs": [
    {
     "name": "stdout",
     "output_type": "stream",
     "text": [
      "Change in Value of the Portfolio in Delta-Gamma Neutral Position if Stock Price Decreases to 165: 1.3552\n"
     ]
    },
    {
     "data": {
      "text/plain": "  Option Type  Strike Price  Number of Contracts  Delta  Gamma   Vega  \\\n0        Call           165               100.00   0.65   0.02  18.22   \n1        Call           170               171.26   0.53   0.02  19.51   \n2        Call           175              -120.00   0.42   0.02  19.18   \n3         Put           165               -50.00  -0.35   0.02  18.22   \n4         Put           170              -100.00  -0.47   0.02  19.51   \n\n   Option Price  Option Price New  Option Price Change  Total Change in Value  \n0          9.87              6.92                -2.96                -295.70  \n1          7.12              4.75                -2.37                -406.55  \n2          4.95              3.13                -1.82                 218.10  \n3          4.32              6.37                 2.04                -102.15  \n4          6.56              9.18                 2.63                -262.61  ",
      "text/html": "<div>\n<style scoped>\n    .dataframe tbody tr th:only-of-type {\n        vertical-align: middle;\n    }\n\n    .dataframe tbody tr th {\n        vertical-align: top;\n    }\n\n    .dataframe thead th {\n        text-align: right;\n    }\n</style>\n<table border=\"1\" class=\"dataframe\">\n  <thead>\n    <tr style=\"text-align: right;\">\n      <th></th>\n      <th>Option Type</th>\n      <th>Strike Price</th>\n      <th>Number of Contracts</th>\n      <th>Delta</th>\n      <th>Gamma</th>\n      <th>Vega</th>\n      <th>Option Price</th>\n      <th>Option Price New</th>\n      <th>Option Price Change</th>\n      <th>Total Change in Value</th>\n    </tr>\n  </thead>\n  <tbody>\n    <tr>\n      <th>0</th>\n      <td>Call</td>\n      <td>165</td>\n      <td>100.00</td>\n      <td>0.65</td>\n      <td>0.02</td>\n      <td>18.22</td>\n      <td>9.87</td>\n      <td>6.92</td>\n      <td>-2.96</td>\n      <td>-295.70</td>\n    </tr>\n    <tr>\n      <th>1</th>\n      <td>Call</td>\n      <td>170</td>\n      <td>171.26</td>\n      <td>0.53</td>\n      <td>0.02</td>\n      <td>19.51</td>\n      <td>7.12</td>\n      <td>4.75</td>\n      <td>-2.37</td>\n      <td>-406.55</td>\n    </tr>\n    <tr>\n      <th>2</th>\n      <td>Call</td>\n      <td>175</td>\n      <td>-120.00</td>\n      <td>0.42</td>\n      <td>0.02</td>\n      <td>19.18</td>\n      <td>4.95</td>\n      <td>3.13</td>\n      <td>-1.82</td>\n      <td>218.10</td>\n    </tr>\n    <tr>\n      <th>3</th>\n      <td>Put</td>\n      <td>165</td>\n      <td>-50.00</td>\n      <td>-0.35</td>\n      <td>0.02</td>\n      <td>18.22</td>\n      <td>4.32</td>\n      <td>6.37</td>\n      <td>2.04</td>\n      <td>-102.15</td>\n    </tr>\n    <tr>\n      <th>4</th>\n      <td>Put</td>\n      <td>170</td>\n      <td>-100.00</td>\n      <td>-0.47</td>\n      <td>0.02</td>\n      <td>19.51</td>\n      <td>6.56</td>\n      <td>9.18</td>\n      <td>2.63</td>\n      <td>-262.61</td>\n    </tr>\n  </tbody>\n</table>\n</div>"
     },
     "execution_count": 10,
     "metadata": {},
     "output_type": "execute_result"
    }
   ],
   "source": [
    "# Calculate the change in the value of the options portfolio if the stock price decreases to 165\n",
    "\n",
    "S = 165\n",
    "portfolio_b['Option Price New'] = portfolio_b.apply(lambda x: bs_price(S, x['Strike Price'], tau, r, sigma, q, x['Option Type'].lower()), axis=1)\n",
    "portfolio_b['Option Price Change'] = portfolio_b['Option Price New'] - portfolio_b[\"Option Price\"]\n",
    "portfolio_b['Total Change in Value'] = portfolio_b['Option Price Change'] * portfolio_b['Number of Contracts']\n",
    "\n",
    "net_gain_loss_delta_gamma_neutral = portfolio_b['Total Change in Value'].sum() - net_delta_gamma_neutral * (S - 170)\n",
    "print(\"Change in Value of the Portfolio in Delta-Gamma Neutral Position if Stock Price Decreases to 165:\", round(net_gain_loss_delta_gamma_neutral, 4))\n",
    "\n",
    "portfolio_b.round(2)"
   ]
  },
  {
   "cell_type": "markdown",
   "id": "397bd2365ff2837d",
   "metadata": {},
   "source": [
    "Comparing part f) to part c), we can draw the same conclusion as in part e): Since the delta-gamma neutral portfolio is hedged against both first-order (delta) and second-order (gamma) risks, the change in the portfolio value is significantly reduced when the stock price decreases from 170 to 165. This demonstrates the effectiveness of a delta-gamma neutral strategy in mitigating the impact of stock price movements on the options portfolio."
   ]
  },
  {
   "cell_type": "markdown",
   "id": "176aa570a02897b5",
   "metadata": {},
   "source": [
    "# Question-3 (VaR-1): \n",
    "\n",
    "This question is intended to help you understand how to estimate Value-at-Risk (VaR) and Conditional Value-at-Risk (CVaR). In parts (a) through (e), please use the variance-covariance approach. In parts (f), you need to use the historical simulation approach. You will need to use your Apple/Tesla dataset of the prior question.\n",
    "\n",
    "a) Using the variance-covariance approach, estimate the one-day VaR at the 99% confidence level for a \\\\$1,000,000 investment in Apple. What would be the one-day VaR for a \\\\$1,000,000 investment in Tesla?\n",
    "b) Compute the correlation coefficient between the returns on Apple and Tesla.\n",
    "c) Using your estimates in parts (a) and (b), find the standard deviation of an equally-weighted portfolio that invests in Apple and Tesla.\n",
    "d) Using the variance-covariance approach, estimate the one-day VaR at the 99% confidence level for a \\\\$1,000,000 investment in the equally-weighted portfolio.\n",
    "e) Repeat part (d) using the historical simulation approach. You may use the \"SORT\" function under the DATA menu in Excel.\n",
    "f) Using the historical simulation approach, estimate: (i) the one-day CVaR for a \\\\$1,000,000 investment in Apple; (ii) the one-day CVaR for a \\\\$1,000,000 investment in Tesla; and (iii) the one-day CVaR for a \\\\$1,000,000 investment in the equally-weighted portfolio."
   ]
  },
  {
   "cell_type": "markdown",
   "id": "d14daaec07868e04",
   "metadata": {},
   "source": [
    "## Part a)"
   ]
  },
  {
   "cell_type": "code",
   "execution_count": 11,
   "id": "dc5cb9b2ccae8eaf",
   "metadata": {
    "ExecuteTime": {
     "end_time": "2024-04-06T17:25:18.629182Z",
     "start_time": "2024-04-06T17:25:18.617637Z"
    }
   },
   "outputs": [
    {
     "name": "stdout",
     "output_type": "stream",
     "text": [
      "One-day VaR for a $1,000,000 investment in Apple: 36665.51\n",
      "One-day VaR for a $1,000,000 investment in Tesla: 80267.61\n"
     ]
    }
   ],
   "source": [
    "# Calculate the one-day VaR at the 99% confidence level for a $1,000,000 investment in Apple and Tesla using the variance-covariance approach\n",
    "\n",
    "investment = 1000000  # Investment amount\n",
    "confidence_level = 0.99  # Confidence level\n",
    "\n",
    "# Calculate the mean and standard deviation of daily returns for Apple and Tesla\n",
    "aapl_mean_return = aapl_returns.mean()\n",
    "aapl_std_return = aapl_returns.std()\n",
    "\n",
    "tsla_mean_return = tsla_returns.mean()\n",
    "tsla_std_return = tsla_returns.std()\n",
    "\n",
    "appl_std_inv = investment * aapl_std_return\n",
    "tsla_std_inv = investment * tsla_std_return\n",
    "\n",
    "# Calculate the VaR for Apple and Tesla\n",
    "appl_1day_VaR = norm.ppf(confidence_level) * appl_std_inv\n",
    "tsla_1day_VaR = norm.ppf(confidence_level) * tsla_std_inv\n",
    "\n",
    "print(\"One-day VaR for a $1,000,000 investment in Apple:\", round(appl_1day_VaR, 2))\n",
    "print(\"One-day VaR for a $1,000,000 investment in Tesla:\", round(tsla_1day_VaR, 2))"
   ]
  },
  {
   "cell_type": "markdown",
   "id": "54634d8859515f31",
   "metadata": {},
   "source": [
    "## Part b)"
   ]
  },
  {
   "cell_type": "code",
   "execution_count": 12,
   "id": "81c3cf04e014e156",
   "metadata": {
    "ExecuteTime": {
     "end_time": "2024-04-06T17:25:18.692284Z",
     "start_time": "2024-04-06T17:25:18.632179Z"
    }
   },
   "outputs": [
    {
     "name": "stdout",
     "output_type": "stream",
     "text": [
      "Correlation Coefficient between Apple and Tesla Returns: 0.458\n"
     ]
    }
   ],
   "source": [
    "# Computing the correlation coefficient between the returns on Apple and Tesla\n",
    "\n",
    "correlation_coefficient = aapl_returns.corr(tsla_returns)\n",
    "print(\"Correlation Coefficient between Apple and Tesla Returns:\", round(correlation_coefficient, 4))"
   ]
  },
  {
   "cell_type": "markdown",
   "id": "a691242137a05f7b",
   "metadata": {},
   "source": [
    "## Part c)"
   ]
  },
  {
   "cell_type": "code",
   "execution_count": 13,
   "id": "c505cf0f9905c457",
   "metadata": {
    "ExecuteTime": {
     "end_time": "2024-04-06T17:25:18.730268Z",
     "start_time": "2024-04-06T17:25:18.708278Z"
    }
   },
   "outputs": [
    {
     "name": "stdout",
     "output_type": "stream",
     "text": [
      "Standard Deviation of an Equally-Weighted Portfolio: 0.022\n"
     ]
    }
   ],
   "source": [
    "# Using the estimates from parts (a) and (b) to find the standard deviation of an equally-weighted portfolio\n",
    "\n",
    "# Standard deviation of an equally-weighted portfolio\n",
    "portfolio_std = np.sqrt(0.5**2 * aapl_std_return**2 + 0.5**2 * tsla_std_return**2 + 2 * 0.5 * 0.5 * correlation_coefficient * aapl_std_return * tsla_std_return)\n",
    "print(\"Standard Deviation of an Equally-Weighted Portfolio:\", round(portfolio_std, 4))"
   ]
  },
  {
   "cell_type": "markdown",
   "id": "5a74085f077a1fd0",
   "metadata": {},
   "source": [
    "## Part d)"
   ]
  },
  {
   "cell_type": "code",
   "execution_count": 14,
   "id": "63ddb489d532f2db",
   "metadata": {
    "ExecuteTime": {
     "end_time": "2024-04-06T17:25:18.773758Z",
     "start_time": "2024-04-06T17:25:18.734266Z"
    }
   },
   "outputs": [
    {
     "name": "stdout",
     "output_type": "stream",
     "text": [
      "One-day VaR for a $1,000,000 investment in the equally-weighted portfolio: 51193.47\n"
     ]
    }
   ],
   "source": [
    "# Estimate the one-day VaR at the 99% confidence level for a $1,000,000 investment in the equally-weighted portfolio using the variance-covariance approach\n",
    "\n",
    "portfolio_1day_VaR = norm.ppf(confidence_level) * investment * portfolio_std\n",
    "print(\"One-day VaR for a $1,000,000 investment in the equally-weighted portfolio:\", round(portfolio_1day_VaR, 2))"
   ]
  },
  {
   "cell_type": "markdown",
   "id": "a931afbeebbb1b7c",
   "metadata": {},
   "source": [
    "## Part e)"
   ]
  },
  {
   "cell_type": "code",
   "execution_count": 15,
   "id": "c2677fe8c1c5f755",
   "metadata": {
    "ExecuteTime": {
     "end_time": "2024-04-06T17:25:18.789770Z",
     "start_time": "2024-04-06T17:25:18.776263Z"
    }
   },
   "outputs": [
    {
     "name": "stdout",
     "output_type": "stream",
     "text": [
      "One-day VaR for a $1,000,000 investment in the equally-weighted portfolio using historical simulation: 57648.73\n"
     ]
    }
   ],
   "source": [
    "# Estimate the one-day VaR at the 99% confidence level for a $1,000,000 investment in the equally-weighted portfolio using the historical simulation approach\n",
    "\n",
    "# Calculate the returns of the equally-weighted portfolio\n",
    "portfolio_returns = 0.5 * aapl_returns + 0.5 * tsla_returns\n",
    "\n",
    "# Calculate the historical VaR\n",
    "historical_VaR = -np.percentile(portfolio_returns, 1, method='lower') * investment\n",
    "\n",
    "print(\"One-day VaR for a $1,000,000 investment in the equally-weighted portfolio using historical simulation:\", round(historical_VaR, 2))"
   ]
  },
  {
   "cell_type": "markdown",
   "id": "c4c95b0b59debd9f",
   "metadata": {},
   "source": [
    "## Part f)"
   ]
  },
  {
   "cell_type": "code",
   "execution_count": 16,
   "id": "ec516fac782b5863",
   "metadata": {
    "ExecuteTime": {
     "end_time": "2024-04-06T17:25:18.813201Z",
     "start_time": "2024-04-06T17:25:18.793274Z"
    }
   },
   "outputs": [
    {
     "name": "stdout",
     "output_type": "stream",
     "text": [
      "One-day CVaR for a $1,000,000 investment in Apple: $39,452.65\n",
      "One-day CVaR for a $1,000,000 investment in Tesla: $95,330.77\n",
      "One-day CVaR for a $1,000,000 investment in the equally-weighted portfolio: $58,019.08\n"
     ]
    }
   ],
   "source": [
    "def calculate_cvar(returns, investment_amount, confidence_level=0.99):\n",
    "    var_threshold = np.percentile(returns, 100 * (1 - confidence_level), method='lower')\n",
    "    cvar = returns[returns <= var_threshold].mean() * investment_amount\n",
    "    return -cvar\n",
    "\n",
    "investment = 1000000  # $1,000,000 investment\n",
    "confidence_level = 0.99  # 99% confidence level\n",
    "aapl_cvar = calculate_cvar(aapl_returns, investment, confidence_level)\n",
    "tsla_cvar = calculate_cvar(tsla_returns, investment, confidence_level)\n",
    "portfolio_returns = 0.5 * aapl_returns + 0.5 * tsla_returns\n",
    "portfolio_cvar = calculate_cvar(portfolio_returns, investment, confidence_level)\n",
    "\n",
    "print(f\"One-day CVaR for a $1,000,000 investment in Apple: ${aapl_cvar:,.2f}\")\n",
    "print(f\"One-day CVaR for a $1,000,000 investment in Tesla: ${tsla_cvar:,.2f}\")\n",
    "print(f\"One-day CVaR for a $1,000,000 investment in the equally-weighted portfolio: ${portfolio_cvar:,.2f}\")"
   ]
  }
 ],
 "metadata": {
  "kernelspec": {
   "display_name": "Python 3 (ipykernel)",
   "language": "python",
   "name": "python3"
  },
  "language_info": {
   "codemirror_mode": {
    "name": "ipython",
    "version": 3
   },
   "file_extension": ".py",
   "mimetype": "text/x-python",
   "name": "python",
   "nbconvert_exporter": "python",
   "pygments_lexer": "ipython3",
   "version": "3.11.7"
  }
 },
 "nbformat": 4,
 "nbformat_minor": 5
}
